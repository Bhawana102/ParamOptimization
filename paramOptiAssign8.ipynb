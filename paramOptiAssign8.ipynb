{
  "nbformat": 4,
  "nbformat_minor": 0,
  "metadata": {
    "colab": {
      "provenance": [],
      "authorship_tag": "ABX9TyPB1WbPigBYG/u+U+QW01V5",
      "include_colab_link": true
    },
    "kernelspec": {
      "name": "python3",
      "display_name": "Python 3"
    },
    "language_info": {
      "name": "python"
    }
  },
  "cells": [
    {
      "cell_type": "markdown",
      "metadata": {
        "id": "view-in-github",
        "colab_type": "text"
      },
      "source": [
        "<a href=\"https://colab.research.google.com/github/Bhawana102/ParamOptimization/blob/main/paramOptiAssign8.ipynb\" target=\"_parent\"><img src=\"https://colab.research.google.com/assets/colab-badge.svg\" alt=\"Open In Colab\"/></a>"
      ]
    },
    {
      "cell_type": "code",
      "execution_count": null,
      "metadata": {
        "id": "8B9zizFcrzjI"
      },
      "outputs": [],
      "source": [
        "\n",
        "!pip install ucimlrepo\n",
        "!pip install bayesian-optimization"
      ]
    },
    {
      "cell_type": "code",
      "source": [
        "import numpy as np\n",
        "import pandas as pd\n",
        "import matplotlib.pyplot as plt\n",
        "from sklearn.model_selection import train_test_split\n",
        "from sklearn.svm import NuSVC\n",
        "from sklearn.metrics import accuracy_score\n",
        "from bayes_opt import BayesianOptimization\n"
      ],
      "metadata": {
        "id": "mLkdz_uLr3sE"
      },
      "execution_count": null,
      "outputs": []
    },
    {
      "cell_type": "code",
      "source": [
        "from ucimlrepo import fetch_ucirepo\n",
        "\n",
        "# fetch dataset\n",
        "dry_bean = fetch_ucirepo(id=602)\n",
        "\n",
        "# data (as pandas dataframes)\n",
        "X = dry_bean.data.features\n",
        "y = dry_bean.data.targets\n",
        "\n",
        "# metadata\n",
        "print(dry_bean.metadata)\n",
        "\n",
        "# variable information\n",
        "print(dry_bean.variables)\n"
      ],
      "metadata": {
        "id": "7d7NWy8mr530"
      },
      "execution_count": null,
      "outputs": []
    },
    {
      "cell_type": "code",
      "source": [
        "print(\"First few rows of features (X):\")\n",
        "print(X.head())\n",
        "\n",
        "\n",
        "print(\"\\nFirst few rows of targets (y):\")\n",
        "print(y.head())\n",
        "\n",
        "print(y)"
      ],
      "metadata": {
        "id": "fH8YSO3hr588"
      },
      "execution_count": null,
      "outputs": []
    },
    {
      "cell_type": "code",
      "source": [
        "X_train, X_test, y_train, y_test = train_test_split(X, y.to_numpy().ravel(), test_size=0.3, random_state=42)\n",
        "\n",
        "\n",
        "# kernels = ['linear', 'poly', 'sigmoid', 'rbf', 'anovadot']\n",
        "kernels=['rbf', 'poly', 'linear']\n",
        "pbounds = {'kernel': (0, len(kernels)-1),\n",
        "           'nu': (0.01, 0.1),\n",
        "           'tol': (1e-6, 1.0)}\n"
      ],
      "metadata": {
        "id": "9p12E41Hr6AQ"
      },
      "execution_count": null,
      "outputs": []
    },
    {
      "cell_type": "code",
      "source": [
        "def evaluate_svm(kernel, nu, tol):\n",
        "  kernel_name = kernels[int(kernel)]\n",
        "  model = NuSVC(kernel=kernel_name, nu=nu, tol=tol)\n",
        "  model.fit(X_train, y_train)\n",
        "  y_pred = model.predict(X_test)\n",
        "  accuracy = accuracy_score(y_test, y_pred)\n",
        "  return accuracy"
      ],
      "metadata": {
        "id": "p_HUrHCkr6DJ"
      },
      "execution_count": null,
      "outputs": []
    },
    {
      "cell_type": "code",
      "source": [
        "results = []\n",
        "optimizers = []\n",
        "targets = []  # Store target values (accuracy scores)\n",
        "iteration_counts = []  # Store iteration counts\n",
        "\n",
        "for sample in range(10):\n",
        "    optimizer = BayesianOptimization(evaluate_svm, pbounds)\n",
        "    optimizer.maximize(init_points=5, n_iter=100)\n",
        "    best_params = optimizer.max['params']\n",
        "    best_accuracy = optimizer.max['target']\n",
        "    results.append((sample, best_accuracy, best_params))\n",
        "    optimizers.append(optimizer)\n",
        "\n",
        "    # Store target values and iteration counts\n",
        "    targets.append(optimizer._space.target)\n",
        "    iteration_counts.append(optimizer._space.params.shape[0])"
      ],
      "metadata": {
        "id": "qC9nY7h5sLK-"
      },
      "execution_count": null,
      "outputs": []
    },
    {
      "cell_type": "code",
      "source": [],
      "metadata": {
        "id": "fxsP_OvLsLO2"
      },
      "execution_count": null,
      "outputs": []
    },
    {
      "cell_type": "code",
      "source": [],
      "metadata": {
        "id": "MXcT_TagsLRq"
      },
      "execution_count": null,
      "outputs": []
    }
  ]
}